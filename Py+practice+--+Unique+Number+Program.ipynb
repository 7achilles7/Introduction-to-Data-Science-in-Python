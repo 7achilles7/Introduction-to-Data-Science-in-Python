{
 "cells": [
  {
   "cell_type": "code",
   "execution_count": 1,
   "metadata": {
    "collapsed": true
   },
   "outputs": [],
   "source": [
    "def unique():\n",
    "    print('Unique Numbers are:')\n",
    "    counter = 0\n",
    "    for i in range(100,200):\n",
    "        n1 = int(i%10)\n",
    "        n2 = int((i%100 - n1)/10)\n",
    "        n3 = int((i - i%100)/100)\n",
    "        if n1 != n2 and n2 != n3 and n3 != n1:\n",
    "            print(i)\n",
    "            counter += 1\n",
    "    print(f'\\nTotal {counter} unique numbers found between 100 and 200')\n",
    "    "
   ]
  },
  {
   "cell_type": "code",
   "execution_count": 2,
   "metadata": {},
   "outputs": [
    {
     "name": "stdout",
     "output_type": "stream",
     "text": [
      "Unique Numbers are:\n",
      "102\n",
      "103\n",
      "104\n",
      "105\n",
      "106\n",
      "107\n",
      "108\n",
      "109\n",
      "120\n",
      "123\n",
      "124\n",
      "125\n",
      "126\n",
      "127\n",
      "128\n",
      "129\n",
      "130\n",
      "132\n",
      "134\n",
      "135\n",
      "136\n",
      "137\n",
      "138\n",
      "139\n",
      "140\n",
      "142\n",
      "143\n",
      "145\n",
      "146\n",
      "147\n",
      "148\n",
      "149\n",
      "150\n",
      "152\n",
      "153\n",
      "154\n",
      "156\n",
      "157\n",
      "158\n",
      "159\n",
      "160\n",
      "162\n",
      "163\n",
      "164\n",
      "165\n",
      "167\n",
      "168\n",
      "169\n",
      "170\n",
      "172\n",
      "173\n",
      "174\n",
      "175\n",
      "176\n",
      "178\n",
      "179\n",
      "180\n",
      "182\n",
      "183\n",
      "184\n",
      "185\n",
      "186\n",
      "187\n",
      "189\n",
      "190\n",
      "192\n",
      "193\n",
      "194\n",
      "195\n",
      "196\n",
      "197\n",
      "198\n",
      "\n",
      "Total 72 unique numbers found between 100 and 200\n"
     ]
    }
   ],
   "source": [
    "unique()"
   ]
  },
  {
   "cell_type": "code",
   "execution_count": null,
   "metadata": {
    "collapsed": true
   },
   "outputs": [],
   "source": []
  }
 ],
 "metadata": {
  "kernelspec": {
   "display_name": "Python 3",
   "language": "python",
   "name": "python3"
  },
  "language_info": {
   "codemirror_mode": {
    "name": "ipython",
    "version": 3
   },
   "file_extension": ".py",
   "mimetype": "text/x-python",
   "name": "python",
   "nbconvert_exporter": "python",
   "pygments_lexer": "ipython3",
   "version": "3.6.2"
  }
 },
 "nbformat": 4,
 "nbformat_minor": 2
}
