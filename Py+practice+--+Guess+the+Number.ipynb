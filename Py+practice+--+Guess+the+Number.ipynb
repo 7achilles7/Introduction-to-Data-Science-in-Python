{
 "cells": [
  {
   "cell_type": "code",
   "execution_count": 31,
   "metadata": {},
   "outputs": [],
   "source": [
    "def more_or_less(un,n):\n",
    "    diff = abs(un-n)\n",
    "    if diff >= 50:\n",
    "        print('You went too far')\n",
    "    elif 20 <= diff < 50:\n",
    "        print('You went a bit far')\n",
    "    elif 5 <= diff < 20:\n",
    "        print('You are close')\n",
    "    elif diff < 5:\n",
    "        print('You are very close')"
   ]
  },
  {
   "cell_type": "code",
   "execution_count": 40,
   "metadata": {},
   "outputs": [],
   "source": [
    "import random as rd\n",
    "def main():\n",
    "    play = input(\"Hey wanna play The Guessing Game !!(Y/N): \")\n",
    "    numb = rd.randint(0,100)\n",
    "    counter = True\n",
    "    while counter:\n",
    "        if play == 'Y' or play == 'y':\n",
    "            usernum = int(input('Game is ready.. Enter your Guess: '))\n",
    "            if usernum == numb:\n",
    "                print('Correct!! YOU WON!')\n",
    "                play = 'N'\n",
    "            else:\n",
    "                more_or_less(usernum,numb)\n",
    "                play = input(\"Wanna guess again(Y/N): \")\n",
    "        elif play == 'N' or play == 'n':\n",
    "            print('Byeee !! See ya.. until next time')\n",
    "            counter = False\n",
    "        else:\n",
    "            print('Wrong Choice..')\n",
    "            play = input(\"Wanna guess again(Y/N): \")\n",
    "\n",
    "        "
   ]
  },
  {
   "cell_type": "code",
   "execution_count": 41,
   "metadata": {},
   "outputs": [
    {
     "name": "stdout",
     "output_type": "stream",
     "text": [
      "Hey wanna play The Guessing Game !!(Y/N): y\n",
      "Game is ready.. Enter your Guess: 56\n",
      "You went a bit far\n",
      "Wanna guess again(Y/N): y\n",
      "Game is ready.. Enter your Guess: 70\n",
      "You went too far\n",
      "Wanna guess again(Y/N): 40\n",
      "Wrong Choice..\n",
      "Wanna guess again(Y/N): y\n",
      "Game is ready.. Enter your Guess: 40\n",
      "You went a bit far\n",
      "Wanna guess again(Y/N): y\n",
      "Game is ready.. Enter your Guess: 20\n",
      "You are very close\n",
      "Wanna guess again(Y/N): 22\n",
      "Wrong Choice..\n",
      "Wanna guess again(Y/N): y\n",
      "Game is ready.. Enter your Guess: 22\n",
      "You are very close\n",
      "Wanna guess again(Y/N): y\n",
      "Game is ready.. Enter your Guess: 23\n",
      "You are very close\n",
      "Wanna guess again(Y/N): y\n",
      "Game is ready.. Enter your Guess: 24\n",
      "You are close\n",
      "Wanna guess again(Y/N): y\n",
      "Game is ready.. Enter your Guess: 19\n",
      "Correct!! YOU WON!\n",
      "Byeee !! See ya.. until next time\n"
     ]
    }
   ],
   "source": [
    "main()"
   ]
  },
  {
   "cell_type": "code",
   "execution_count": null,
   "metadata": {
    "collapsed": true
   },
   "outputs": [],
   "source": []
  }
 ],
 "metadata": {
  "kernelspec": {
   "display_name": "Python 3",
   "language": "python",
   "name": "python3"
  },
  "language_info": {
   "codemirror_mode": {
    "name": "ipython",
    "version": 3
   },
   "file_extension": ".py",
   "mimetype": "text/x-python",
   "name": "python",
   "nbconvert_exporter": "python",
   "pygments_lexer": "ipython3",
   "version": "3.6.2"
  }
 },
 "nbformat": 4,
 "nbformat_minor": 2
}
